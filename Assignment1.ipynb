{
 "cells": [
  {
   "cell_type": "markdown",
   "id": "3895de00-bf49-4979-aa23-5118c1d61cf0",
   "metadata": {},
   "source": [
    "Q1. Write all the conventions being followed while declaring a variable.\n",
    "Ans:- 1) variable name cannot begin with a digit .\n",
    "2) variable name cannot have spaces.\n",
    "3) variable name cannot be a keyword.\n",
    "4) variable nae are case sensitive."
   ]
  },
  {
   "cell_type": "markdown",
   "id": "52a745ce-8b9e-4e01-aec7-cfbb6ee8cd57",
   "metadata": {},
   "source": [
    "Q2. What will happen if we declare a restricted keyword as a variable?\n",
    "Ans:- if we declare a restricted keyword as a variable in python it will result in a error."
   ]
  },
  {
   "cell_type": "markdown",
   "id": "c97d2a4a-3a44-45af-a42f-e65fb3508e29",
   "metadata": {},
   "source": [
    "Q3. Can we actually declare a string as a variable name?\n",
    "Ans:- NO we cannot declare a string as a variable name."
   ]
  },
  {
   "cell_type": "markdown",
   "id": "edc2b275-c58a-42a6-9bfd-5e05316c2f76",
   "metadata": {},
   "source": [
    "Q4. Is it possible for us to declare “” as a variable? If so, then write an example of it.\n",
    "Ans:- yes we can declare \"\" as a variable name.\n",
    "example:-"
   ]
  },
  {
   "cell_type": "code",
   "execution_count": 1,
   "id": "4e688f0e-ae2b-49cb-9417-31f1638551e8",
   "metadata": {},
   "outputs": [
    {
     "name": "stdout",
     "output_type": "stream",
     "text": [
      "50\n"
     ]
    }
   ],
   "source": [
    "_ = 50\n",
    "print(_)"
   ]
  },
  {
   "cell_type": "markdown",
   "id": "2008123e-60da-4a08-975d-0035274e5ed5",
   "metadata": {},
   "source": [
    "Q5. Using an example, explain how the variables in python are dynamic in nature.\n",
    "Ans:- yes python variable are dynamic in nature whuch could be understood by the following code:-"
   ]
  },
  {
   "cell_type": "code",
   "execution_count": 2,
   "id": "7c1e185a-a109-481c-bc1b-88440e236b5f",
   "metadata": {},
   "outputs": [
    {
     "name": "stdout",
     "output_type": "stream",
     "text": [
      "50 <class 'int'>\n",
      "5.0 <class 'float'>\n",
      "akshat <class 'str'>\n",
      "True <class 'bool'>\n"
     ]
    }
   ],
   "source": [
    "a = 50\n",
    "print(a,type(a))\n",
    "a = 5.0\n",
    "print(a,type(a))\n",
    "a = \"akshat\"\n",
    "print(a,type(a))\n",
    "a = True\n",
    "print(a,type(a))\n"
   ]
  },
  {
   "cell_type": "code",
   "execution_count": null,
   "id": "6795c6a8-3dbf-4ade-8841-15c9f135635f",
   "metadata": {},
   "outputs": [],
   "source": []
  }
 ],
 "metadata": {
  "kernelspec": {
   "display_name": "Python 3 (ipykernel)",
   "language": "python",
   "name": "python3"
  },
  "language_info": {
   "codemirror_mode": {
    "name": "ipython",
    "version": 3
   },
   "file_extension": ".py",
   "mimetype": "text/x-python",
   "name": "python",
   "nbconvert_exporter": "python",
   "pygments_lexer": "ipython3",
   "version": "3.10.8"
  }
 },
 "nbformat": 4,
 "nbformat_minor": 5
}
