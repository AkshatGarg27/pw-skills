{
 "cells": [
  {
   "cell_type": "markdown",
   "id": "2edd1b64-9d19-4552-a9a6-9b577f684f5f",
   "metadata": {},
   "source": [
    "Q1 How can we store a single quote (‘) as a string in a variable?\n",
    "\n",
    "Ans:- we can store a single quote(') as a string in a variable by:-\n"
   ]
  },
  {
   "cell_type": "code",
   "execution_count": 1,
   "id": "769fcc08-2f9d-4caf-8854-2c112c130403",
   "metadata": {},
   "outputs": [
    {
     "name": "stdout",
     "output_type": "stream",
     "text": [
      "'\n"
     ]
    }
   ],
   "source": [
    "a = \"'\"\n",
    "print(a)"
   ]
  },
  {
   "cell_type": "markdown",
   "id": "3e2f28f2-d281-4ea6-bd52-eb52c9d30bf8",
   "metadata": {},
   "source": [
    "Q2 Refer the below variable: x = 'a' Here, is x a character type or string type variable? Support your answer with an explanation. Ans:- here x is of a string type variable:-"
   ]
  },
  {
   "cell_type": "code",
   "execution_count": 2,
   "id": "3370ed43-8a91-465a-b97f-78bda8016ed1",
   "metadata": {},
   "outputs": [
    {
     "name": "stdout",
     "output_type": "stream",
     "text": [
      "<class 'str'>\n"
     ]
    }
   ],
   "source": [
    "x = 'a'\n",
    "print(type(x))"
   ]
  },
  {
   "cell_type": "markdown",
   "id": "ef67f3bf-95ba-464d-bba5-520bd1f67e36",
   "metadata": {},
   "source": [
    "Q3 Apply the following functions on this variable: ‘Welcome to Python foundation course'\n",
    "\n",
    "1)find() 2)count() 3)len() 4)concatenation Note: You can use your choice of parameters But make sure it is correct. Ans:-"
   ]
  },
  {
   "cell_type": "code",
   "execution_count": 3,
   "id": "70558a00-0306-409b-bf2d-d43472614026",
   "metadata": {},
   "outputs": [
    {
     "name": "stdout",
     "output_type": "stream",
     "text": [
      "1\n",
      "6\n",
      "35\n",
      "Welcome to Python foundation coursepw skills\n"
     ]
    }
   ],
   "source": [
    "x = 'Welcome to Python foundation course'\n",
    "print(x.find('e'))\n",
    "print(x.count('o'))\n",
    "print(len(x))\n",
    "a = \"pw skills\"\n",
    "print(x+a)"
   ]
  },
  {
   "cell_type": "markdown",
   "id": "1fb398b0-971f-4e57-9e5b-61bbe50a3fdb",
   "metadata": {},
   "source": [
    "Q4 For the var1able: word = 'PanaJi@12256'\n",
    "Calculate the follow1ng:\n",
    "(a) Total number of alphabets in lowercase\n",
    "(b) Total number of alphabets in uppercase\n",
    "(c) Total number of numerical in string\n",
    "Ans:-"
   ]
  },
  {
   "cell_type": "code",
   "execution_count": 4,
   "id": "508699a5-44d8-4fb1-81e1-6429bc68e248",
   "metadata": {},
   "outputs": [
    {
     "name": "stdout",
     "output_type": "stream",
     "text": [
      "word:  PanaJi@12256\n",
      "the total number of lower case alphabets are:  4\n",
      "the total number of upper case alphabets are:  2\n",
      "the total number of numbers  are:  5\n"
     ]
    }
   ],
   "source": [
    "word = 'PanaJi@12256'\n",
    "print(\"word: \",word)\n",
    "lower = upper = numbers = 0\n",
    "for i in word:\n",
    "    if i.isalnum():\n",
    "        if i.islower():\n",
    "            lower +=1\n",
    "        elif i.isupper():\n",
    "            upper +=1\n",
    "        else:\n",
    "            numbers +=1\n",
    "print(\"the total number of lower case alphabets are: \",lower)\n",
    "print(\"the total number of upper case alphabets are: \",upper)\n",
    "print(\"the total number of numbers  are: \",numbers)"
   ]
  },
  {
   "cell_type": "markdown",
   "id": "f568fe35-63cd-4f6d-bec4-b8fffa24a0ca",
   "metadata": {},
   "source": [
    "Q5 write a code to store a numerical value inside a variable then convert it into string in python\n",
    "Ans:-"
   ]
  },
  {
   "cell_type": "code",
   "execution_count": 5,
   "id": "6ba8b152-55ff-4438-b7c0-d31b40587f09",
   "metadata": {},
   "outputs": [
    {
     "name": "stdout",
     "output_type": "stream",
     "text": [
      "Numerical value: 20271318\n",
      "String representation: 20271318\n"
     ]
    }
   ],
   "source": [
    "number = 20271318\n",
    "number_str = str(number)\n",
    "print(\"Numerical value:\", number)\n",
    "print(\"String representation:\", number_str)"
   ]
  },
  {
   "cell_type": "code",
   "execution_count": null,
   "id": "2fcf06f7-2249-4137-b192-0ac01fbbca88",
   "metadata": {},
   "outputs": [],
   "source": []
  },
  {
   "cell_type": "code",
   "execution_count": null,
   "id": "18547bfe-0411-4e07-8657-db9d5aa12b74",
   "metadata": {},
   "outputs": [],
   "source": []
  }
 ],
 "metadata": {
  "kernelspec": {
   "display_name": "Python 3 (ipykernel)",
   "language": "python",
   "name": "python3"
  },
  "language_info": {
   "codemirror_mode": {
    "name": "ipython",
    "version": 3
   },
   "file_extension": ".py",
   "mimetype": "text/x-python",
   "name": "python",
   "nbconvert_exporter": "python",
   "pygments_lexer": "ipython3",
   "version": "3.10.8"
  }
 },
 "nbformat": 4,
 "nbformat_minor": 5
}
