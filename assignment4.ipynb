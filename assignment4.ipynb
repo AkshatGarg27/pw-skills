{
 "cells": [
  {
   "cell_type": "markdown",
   "id": "c27ce6f3-8b6d-4395-908d-930bdd2beec5",
   "metadata": {},
   "source": [
    "Q1. What is the syntax for adding an element to a list in Python?"
   ]
  },
  {
   "cell_type": "code",
   "execution_count": 1,
   "id": "b6b144ec-0e46-48a8-bc8a-d4c14fd5a98d",
   "metadata": {},
   "outputs": [],
   "source": [
    "a = [5,10,15,20]"
   ]
  },
  {
   "cell_type": "code",
   "execution_count": 2,
   "id": "b9730945-4079-4210-97bc-e5950e38f367",
   "metadata": {},
   "outputs": [],
   "source": [
    "a.append(25)"
   ]
  },
  {
   "cell_type": "code",
   "execution_count": 3,
   "id": "2463fb0a-f3e5-497a-aef3-466f5168f6bb",
   "metadata": {},
   "outputs": [
    {
     "data": {
      "text/plain": [
       "[5, 10, 15, 20, 25]"
      ]
     },
     "execution_count": 3,
     "metadata": {},
     "output_type": "execute_result"
    }
   ],
   "source": [
    "a"
   ]
  },
  {
   "cell_type": "markdown",
   "id": "d97cc53f-44c6-47b8-ac6d-3cf2c3b2394d",
   "metadata": {},
   "source": [
    "Q2. What is the difference between remove() and pop() functions in Python?"
   ]
  },
  {
   "cell_type": "markdown",
   "id": "2160cdc2-6edd-4bdc-9d79-913a943ba5bc",
   "metadata": {},
   "source": [
    "Ans:- the syntax of remove function is listname.remove(value_to_be_removed)\n",
    "whereas the syntax of pop function is listname.pop() or listname.pop(index_of_the_item_to_be_removed)\n",
    "if we do not give a index to pop() function it will automatically remove the last element of the list but it we do not give\n",
    "a value to remove() function we will get an error\n",
    "for example:-"
   ]
  },
  {
   "cell_type": "code",
   "execution_count": 6,
   "id": "878dae4d-a195-4836-9a34-ef8fc3a4e38a",
   "metadata": {},
   "outputs": [],
   "source": [
    "a = [5,10,15,20,25,5,10]"
   ]
  },
  {
   "cell_type": "code",
   "execution_count": 7,
   "id": "02ab4fa3-e0f8-4432-a77a-4f414a9be14c",
   "metadata": {},
   "outputs": [
    {
     "data": {
      "text/plain": [
       "[5, 10, 15, 20, 25, 5, 10]"
      ]
     },
     "execution_count": 7,
     "metadata": {},
     "output_type": "execute_result"
    }
   ],
   "source": [
    "a"
   ]
  },
  {
   "cell_type": "code",
   "execution_count": 8,
   "id": "7eb874d0-2fb1-48e5-9a45-914d96ff5376",
   "metadata": {},
   "outputs": [
    {
     "data": {
      "text/plain": [
       "10"
      ]
     },
     "execution_count": 8,
     "metadata": {},
     "output_type": "execute_result"
    }
   ],
   "source": [
    "a.pop()"
   ]
  },
  {
   "cell_type": "code",
   "execution_count": 9,
   "id": "106e5a08-484c-41b7-b945-59685b640629",
   "metadata": {},
   "outputs": [
    {
     "data": {
      "text/plain": [
       "[5, 10, 15, 20, 25, 5]"
      ]
     },
     "execution_count": 9,
     "metadata": {},
     "output_type": "execute_result"
    }
   ],
   "source": [
    "a"
   ]
  },
  {
   "cell_type": "code",
   "execution_count": 10,
   "id": "352a0f14-f806-443c-8f8a-2cb9d1cfd87b",
   "metadata": {},
   "outputs": [
    {
     "data": {
      "text/plain": [
       "20"
      ]
     },
     "execution_count": 10,
     "metadata": {},
     "output_type": "execute_result"
    }
   ],
   "source": [
    "a.pop(3)"
   ]
  },
  {
   "cell_type": "code",
   "execution_count": 11,
   "id": "ca99e761-f90b-4e3f-98d7-124dd6be84ab",
   "metadata": {},
   "outputs": [
    {
     "data": {
      "text/plain": [
       "[5, 10, 15, 25, 5]"
      ]
     },
     "execution_count": 11,
     "metadata": {},
     "output_type": "execute_result"
    }
   ],
   "source": [
    "a"
   ]
  },
  {
   "cell_type": "code",
   "execution_count": 12,
   "id": "e09085bf-d32b-416a-abe1-e891e0388492",
   "metadata": {},
   "outputs": [],
   "source": [
    "a.remove(5)"
   ]
  },
  {
   "cell_type": "code",
   "execution_count": 13,
   "id": "f035eb86-52b0-4e97-9eec-79f7de58c53e",
   "metadata": {},
   "outputs": [
    {
     "data": {
      "text/plain": [
       "[10, 15, 25, 5]"
      ]
     },
     "execution_count": 13,
     "metadata": {},
     "output_type": "execute_result"
    }
   ],
   "source": [
    "a"
   ]
  },
  {
   "cell_type": "markdown",
   "id": "7e89c116-bf61-49f4-aec6-e6fb356e50e5",
   "metadata": {},
   "source": [
    "Q3. Write a Python code to sort a list in descending order."
   ]
  },
  {
   "cell_type": "code",
   "execution_count": 14,
   "id": "78a2f8ee-a305-43dd-97f6-c5e7cb415c98",
   "metadata": {},
   "outputs": [],
   "source": [
    "a = [5,89,35,1,22,90]"
   ]
  },
  {
   "cell_type": "code",
   "execution_count": 15,
   "id": "17bd08a7-c4c1-41a9-ae2c-f7fb408523f3",
   "metadata": {},
   "outputs": [
    {
     "data": {
      "text/plain": [
       "[5, 89, 35, 1, 22, 90]"
      ]
     },
     "execution_count": 15,
     "metadata": {},
     "output_type": "execute_result"
    }
   ],
   "source": [
    "a"
   ]
  },
  {
   "cell_type": "code",
   "execution_count": 16,
   "id": "406f3e76-67dc-4c6f-a5f8-9540c1e44083",
   "metadata": {},
   "outputs": [],
   "source": [
    "a.sort(reverse = True)"
   ]
  },
  {
   "cell_type": "code",
   "execution_count": 17,
   "id": "0a77e7b3-5f4e-4da8-8392-787956781d7f",
   "metadata": {},
   "outputs": [
    {
     "data": {
      "text/plain": [
       "[90, 89, 35, 22, 5, 1]"
      ]
     },
     "execution_count": 17,
     "metadata": {},
     "output_type": "execute_result"
    }
   ],
   "source": [
    "a"
   ]
  },
  {
   "cell_type": "markdown",
   "id": "541c925b-bfb3-45fe-a14e-170e6fcf6c34",
   "metadata": {},
   "source": [
    "Q4. Write a Python code to count the number of occurrences of an element in a list."
   ]
  },
  {
   "cell_type": "code",
   "execution_count": 18,
   "id": "a887b41b-01df-495b-8ca2-afd50c94d5f7",
   "metadata": {},
   "outputs": [],
   "source": [
    "a = [5,10,15,20,25,5,10,5,5,30]"
   ]
  },
  {
   "cell_type": "code",
   "execution_count": 19,
   "id": "9344da6e-b14a-4d54-8b2c-4562be168457",
   "metadata": {},
   "outputs": [
    {
     "data": {
      "text/plain": [
       "[5, 10, 15, 20, 25, 5, 10, 5, 5, 30]"
      ]
     },
     "execution_count": 19,
     "metadata": {},
     "output_type": "execute_result"
    }
   ],
   "source": [
    "a"
   ]
  },
  {
   "cell_type": "code",
   "execution_count": 20,
   "id": "22babbb8-cf61-4c5c-b149-aa0a60af5c35",
   "metadata": {},
   "outputs": [
    {
     "data": {
      "text/plain": [
       "4"
      ]
     },
     "execution_count": 20,
     "metadata": {},
     "output_type": "execute_result"
    }
   ],
   "source": [
    "a.count(5)"
   ]
  },
  {
   "cell_type": "markdown",
   "id": "1358208e-6eeb-4960-bd55-fc4c3634ebcb",
   "metadata": {},
   "source": [
    "Q5. Write a Python code to reverse a list."
   ]
  },
  {
   "cell_type": "code",
   "execution_count": 21,
   "id": "269d0c8c-4def-4f61-9b0f-140818b8a042",
   "metadata": {},
   "outputs": [],
   "source": [
    "a = [5,10,15,20,25]"
   ]
  },
  {
   "cell_type": "code",
   "execution_count": 22,
   "id": "c06876cd-238a-47e9-b948-df2385e79449",
   "metadata": {},
   "outputs": [
    {
     "data": {
      "text/plain": [
       "[25, 20, 15, 10, 5]"
      ]
     },
     "execution_count": 22,
     "metadata": {},
     "output_type": "execute_result"
    }
   ],
   "source": [
    "a[::-1]"
   ]
  },
  {
   "cell_type": "markdown",
   "id": "50fe32db-8656-4da7-88ba-0cc04053b4d1",
   "metadata": {},
   "source": [
    "or"
   ]
  },
  {
   "cell_type": "code",
   "execution_count": 23,
   "id": "1bdceb5a-4e50-4843-a5a4-14d33f214e8a",
   "metadata": {},
   "outputs": [],
   "source": [
    "a.reverse()"
   ]
  },
  {
   "cell_type": "code",
   "execution_count": 24,
   "id": "72319e32-e96e-4b72-93e4-22834d14354e",
   "metadata": {},
   "outputs": [
    {
     "data": {
      "text/plain": [
       "[25, 20, 15, 10, 5]"
      ]
     },
     "execution_count": 24,
     "metadata": {},
     "output_type": "execute_result"
    }
   ],
   "source": [
    "a"
   ]
  },
  {
   "cell_type": "code",
   "execution_count": null,
   "id": "737e739c-7326-4a93-9a8a-2f26ad9a04e8",
   "metadata": {},
   "outputs": [],
   "source": []
  }
 ],
 "metadata": {
  "kernelspec": {
   "display_name": "Python 3 (ipykernel)",
   "language": "python",
   "name": "python3"
  },
  "language_info": {
   "codemirror_mode": {
    "name": "ipython",
    "version": 3
   },
   "file_extension": ".py",
   "mimetype": "text/x-python",
   "name": "python",
   "nbconvert_exporter": "python",
   "pygments_lexer": "ipython3",
   "version": "3.10.8"
  }
 },
 "nbformat": 4,
 "nbformat_minor": 5
}
