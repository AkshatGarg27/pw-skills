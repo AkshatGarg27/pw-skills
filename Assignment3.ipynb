{
 "cells": [
  {
   "cell_type": "markdown",
   "id": "ca79948e-c5a8-4a93-aca8-6ae7e6bee118",
   "metadata": {},
   "source": [
    "Q1. Create an empty list."
   ]
  },
  {
   "cell_type": "code",
   "execution_count": 1,
   "id": "33e86424-f32d-4be5-b195-7417fd88f649",
   "metadata": {},
   "outputs": [],
   "source": [
    "a = []"
   ]
  },
  {
   "cell_type": "markdown",
   "id": "ee4bf9c8-44c3-41bd-ba1b-dc90d951d147",
   "metadata": {},
   "source": [
    "Q2. Create a list and add an element to the end of this list."
   ]
  },
  {
   "cell_type": "code",
   "execution_count": 2,
   "id": "6eea8894-3c01-428c-91fe-1389d01f420a",
   "metadata": {},
   "outputs": [],
   "source": [
    "a = [5,10,15,20]"
   ]
  },
  {
   "cell_type": "code",
   "execution_count": 3,
   "id": "f7d1def7-3fa5-40ae-a051-85383a11916c",
   "metadata": {},
   "outputs": [],
   "source": [
    "a.append(25)"
   ]
  },
  {
   "cell_type": "code",
   "execution_count": 4,
   "id": "3bb47cdf-5f8b-4d41-ae0f-457dfcbc525a",
   "metadata": {},
   "outputs": [
    {
     "data": {
      "text/plain": [
       "[5, 10, 15, 20, 25]"
      ]
     },
     "execution_count": 4,
     "metadata": {},
     "output_type": "execute_result"
    }
   ],
   "source": [
    "a"
   ]
  },
  {
   "cell_type": "markdown",
   "id": "ae33f5cf-d475-474c-bcfa-43015a989ec6",
   "metadata": {},
   "source": [
    "Q3. For the above created list print the last element."
   ]
  },
  {
   "cell_type": "code",
   "execution_count": 5,
   "id": "6b55b7b3-b990-47cb-b5a0-b7622e7bf110",
   "metadata": {},
   "outputs": [
    {
     "data": {
      "text/plain": [
       "25"
      ]
     },
     "execution_count": 5,
     "metadata": {},
     "output_type": "execute_result"
    }
   ],
   "source": [
    "a[len(a)-1]"
   ]
  },
  {
   "cell_type": "markdown",
   "id": "d824a30c-7057-47bb-98de-ebb363960e81",
   "metadata": {},
   "source": [
    "Q4. Reverse the above created list."
   ]
  },
  {
   "cell_type": "code",
   "execution_count": 6,
   "id": "e5d301f9-6158-4d99-bfd4-9e7c92a13d39",
   "metadata": {},
   "outputs": [
    {
     "data": {
      "text/plain": [
       "[25, 20, 15, 10, 5]"
      ]
     },
     "execution_count": 6,
     "metadata": {},
     "output_type": "execute_result"
    }
   ],
   "source": [
    "a[::-1]"
   ]
  },
  {
   "cell_type": "markdown",
   "id": "1379a8ce-3e82-4e67-85f3-cda77b2ce98c",
   "metadata": {},
   "source": [
    "Q5. Sort the above created list."
   ]
  },
  {
   "cell_type": "code",
   "execution_count": 7,
   "id": "878d55e5-2921-4518-a973-bf53cf310110",
   "metadata": {},
   "outputs": [
    {
     "data": {
      "text/plain": [
       "[5, 10, 15, 20, 25]"
      ]
     },
     "execution_count": 7,
     "metadata": {},
     "output_type": "execute_result"
    }
   ],
   "source": [
    "a"
   ]
  },
  {
   "cell_type": "code",
   "execution_count": 8,
   "id": "7757906e-78e5-4dd1-8eab-64ba9f842dbc",
   "metadata": {},
   "outputs": [],
   "source": [
    "a.sort()"
   ]
  },
  {
   "cell_type": "code",
   "execution_count": 9,
   "id": "a5ca4ffa-6873-4266-901e-466d5d60f48c",
   "metadata": {},
   "outputs": [
    {
     "data": {
      "text/plain": [
       "[5, 10, 15, 20, 25]"
      ]
     },
     "execution_count": 9,
     "metadata": {},
     "output_type": "execute_result"
    }
   ],
   "source": [
    "a"
   ]
  },
  {
   "cell_type": "markdown",
   "id": "e2eacf7c-55d2-409e-b5a6-82a7face2e2f",
   "metadata": {},
   "source": [
    "Q6. Create a list of your top three favorite movies, then print the second movie title."
   ]
  },
  {
   "cell_type": "code",
   "execution_count": 10,
   "id": "9c61477c-c9f6-45ed-b0ba-d03444181f72",
   "metadata": {},
   "outputs": [],
   "source": [
    "a = ['robot','2.0','mission mangal']"
   ]
  },
  {
   "cell_type": "code",
   "execution_count": 11,
   "id": "4b6bad4a-fb06-4667-9501-c6d6f4a99141",
   "metadata": {},
   "outputs": [
    {
     "data": {
      "text/plain": [
       "'2.0'"
      ]
     },
     "execution_count": 11,
     "metadata": {},
     "output_type": "execute_result"
    }
   ],
   "source": [
    "a[1]"
   ]
  },
  {
   "cell_type": "markdown",
   "id": "bf117f72-83c4-45c0-8057-16977d7d11e5",
   "metadata": {},
   "source": [
    "Q7. Create a list of your favorite animals, then add a new animal to the list and print the updated list."
   ]
  },
  {
   "cell_type": "code",
   "execution_count": 12,
   "id": "0bb15c0d-7303-42eb-bc66-ae4d60d0dce1",
   "metadata": {},
   "outputs": [],
   "source": [
    "a = ['lion','tiger','leapord']"
   ]
  },
  {
   "cell_type": "code",
   "execution_count": 13,
   "id": "b4cbc094-d3cc-4ef1-8e23-18c8a963f83f",
   "metadata": {},
   "outputs": [
    {
     "data": {
      "text/plain": [
       "['lion', 'tiger', 'leapord']"
      ]
     },
     "execution_count": 13,
     "metadata": {},
     "output_type": "execute_result"
    }
   ],
   "source": [
    "a"
   ]
  },
  {
   "cell_type": "code",
   "execution_count": 14,
   "id": "a49a8371-e8b8-46fd-81d9-7b70162cdb20",
   "metadata": {},
   "outputs": [],
   "source": [
    "a.append('bear')"
   ]
  },
  {
   "cell_type": "code",
   "execution_count": 15,
   "id": "8c6f1417-81eb-48cf-a6fd-c0f8daa5ca29",
   "metadata": {},
   "outputs": [
    {
     "data": {
      "text/plain": [
       "['lion', 'tiger', 'leapord', 'bear']"
      ]
     },
     "execution_count": 15,
     "metadata": {},
     "output_type": "execute_result"
    }
   ],
   "source": [
    "a"
   ]
  },
  {
   "cell_type": "markdown",
   "id": "bc16b9bd-5744-4f52-af32-414408ec29c1",
   "metadata": {},
   "source": [
    "Q8. Create a list of your favorite cities, then use the index() method to find the position of a specific city on the list and print it."
   ]
  },
  {
   "cell_type": "code",
   "execution_count": 16,
   "id": "32589af9-5171-4b56-abcc-8d1271667d58",
   "metadata": {},
   "outputs": [],
   "source": [
    "a = ['vellore','chennai','amravati','bhopal']"
   ]
  },
  {
   "cell_type": "code",
   "execution_count": 17,
   "id": "d1c81fb6-e68e-413e-89c1-ab534cee25b9",
   "metadata": {},
   "outputs": [
    {
     "data": {
      "text/plain": [
       "['vellore', 'chennai', 'amravati', 'bhopal']"
      ]
     },
     "execution_count": 17,
     "metadata": {},
     "output_type": "execute_result"
    }
   ],
   "source": [
    "a"
   ]
  },
  {
   "cell_type": "code",
   "execution_count": 18,
   "id": "fe54e644-07de-4dfa-8449-4b2719114694",
   "metadata": {},
   "outputs": [
    {
     "data": {
      "text/plain": [
       "1"
      ]
     },
     "execution_count": 18,
     "metadata": {},
     "output_type": "execute_result"
    }
   ],
   "source": [
    "a.index('chennai')"
   ]
  },
  {
   "cell_type": "code",
   "execution_count": null,
   "id": "9aa47e5f-bf72-4c54-9076-59b82b3361e5",
   "metadata": {},
   "outputs": [],
   "source": []
  }
 ],
 "metadata": {
  "kernelspec": {
   "display_name": "Python 3 (ipykernel)",
   "language": "python",
   "name": "python3"
  },
  "language_info": {
   "codemirror_mode": {
    "name": "ipython",
    "version": 3
   },
   "file_extension": ".py",
   "mimetype": "text/x-python",
   "name": "python",
   "nbconvert_exporter": "python",
   "pygments_lexer": "ipython3",
   "version": "3.10.8"
  }
 },
 "nbformat": 4,
 "nbformat_minor": 5
}
